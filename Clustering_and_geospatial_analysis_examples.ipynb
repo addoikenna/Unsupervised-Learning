{
 "cells": [
  {
   "cell_type": "markdown",
   "id": "3cf3c74f",
   "metadata": {},
   "source": [
    "<div align=\"center\" style=\" font-size: 80%; text-align: center; margin: 0 auto\">\n",
    "<img src=\"https://raw.githubusercontent.com/Explore-AI/Pictures/master/Python-Notebook-Banners/Examples.png\"  style=\"display: block; margin-left: auto; margin-right: auto;\";/>\n",
    "</div>"
   ]
  },
  {
   "cell_type": "markdown",
   "id": "f662d169",
   "metadata": {},
   "source": [
    "# Examples: Clustering and geospatial analysis\n",
    "© ExploreAI Academy"
   ]
  },
  {
   "cell_type": "markdown",
   "id": "26af890c",
   "metadata": {},
   "source": [
    "In this train, we'll use geopandas to plot geospatial data and create multidimensional plots by adjusting size and colour."
   ]
  },
  {
   "cell_type": "markdown",
   "id": "2d230d14",
   "metadata": {
    "tags": []
   },
   "source": [
    "## Learning objectives\n",
    "\n",
    "By the end of this train, you should be able to;\n",
    "- Create multidimensional plots by adjusting size and colour;\n",
    "- Use geopandas to plot geospatial data."
   ]
  },
  {
   "cell_type": "markdown",
   "id": "9df3860d",
   "metadata": {},
   "source": [
    "## Introduction\n",
    "\n",
    "In this train we will introduce multi-dimensional plotting and work with geospatial data. Let's start by importing the packages we'll need for this train."
   ]
  },
  {
   "cell_type": "code",
   "execution_count": null,
   "id": "b782b402",
   "metadata": {},
   "outputs": [],
   "source": [
    "import pandas as pd\n",
    "import geopandas as gpd\n",
    "import numpy as np\n",
    "from sklearn.cluster import AgglomerativeClustering\n",
    "from sklearn.preprocessing import StandardScaler\n",
    "import matplotlib.pyplot as plt\n",
    "from matplotlib.colors import ListedColormap\n",
    "import seaborn as sns\n",
    "%matplotlib inline"
   ]
  },
  {
   "cell_type": "markdown",
   "id": "0764d8d5",
   "metadata": {},
   "source": [
    "Before you continue, make sure you install this library using `conda install geopandas`. If you are struggling to correctly install the `geopandas` package, run this notebook on Google Colab and install the package using the following cell:"
   ]
  },
  {
   "cell_type": "code",
   "execution_count": null,
   "id": "e0929400",
   "metadata": {},
   "outputs": [],
   "source": [
    "#!pip install geopandas"
   ]
  },
  {
   "cell_type": "markdown",
   "id": "6af9d877",
   "metadata": {},
   "source": [
    "## Preparing the Data\n",
    "In this train, we will be using the same preprocessing and clustering technique as in the Hierarchical Clustering train, but just adjusted for use with United States census data. Let's load the data and take a look at it."
   ]
  },
  {
   "cell_type": "code",
   "execution_count": null,
   "id": "c12efef0",
   "metadata": {},
   "outputs": [],
   "source": [
    "df = pd.read_csv('https://raw.githubusercontent.com/Explore-AI/Public-Data/master/Data/unsupervised_sprint/acs2015_county_data.csv', encoding='utf-8').dropna()\n",
    "df.head()"
   ]
  },
  {
   "cell_type": "markdown",
   "id": "bf5cab92",
   "metadata": {},
   "source": [
    "We'll set the labels to `CensusID`, `State`, and `County`, and scale the features using `StandardScaler`. "
   ]
  },
  {
   "cell_type": "code",
   "execution_count": null,
   "id": "f7109530",
   "metadata": {},
   "outputs": [],
   "source": [
    "labels = ['CensusId', 'State', 'County']\n",
    "features = [col for col in df.columns if col not in labels]\n",
    "\n",
    "scaler = StandardScaler()\n",
    "df[features] = df[features].astype('float64')\n",
    "X = scaler.fit_transform(df[features])"
   ]
  },
  {
   "cell_type": "markdown",
   "id": "46bd3c09",
   "metadata": {},
   "source": [
    "We'll now cluster our data using `AgglomerativeClustering`, with 4 clusters. In this train, we will be using [Ward's minimum variance method](https://en.wikipedia.org/wiki/Ward%27s_method) for our linkage method with the Euclidean distance metric. You are encouraged to try out different distance metrics and linkage methods and see how your results differ.   "
   ]
  },
  {
   "cell_type": "code",
   "execution_count": null,
   "id": "b124aa04",
   "metadata": {},
   "outputs": [],
   "source": [
    "hc = AgglomerativeClustering(n_clusters=4, linkage='ward', affinity='euclidean').fit(X)\n",
    "df['cluster'] = hc.labels_ + 1\n",
    "df['cluster'] = df['cluster'].astype('int64')"
   ]
  },
  {
   "cell_type": "markdown",
   "id": "1ea102e4",
   "metadata": {},
   "source": [
    "## Multi-dimensional plotting\n",
    "Before we plot the geospatial data, let's first look at another way to fit more features into a single plot. In the Hierarchical Clustering train, we only plotted data using the horizontal and vertical axes, but we never looked at the different visual channels.  \n",
    "\n",
    "Let's use both shape and colour to add two new dimensions to our plot. First, we will decide on a suitable palette with four colours:"
   ]
  },
  {
   "cell_type": "code",
   "execution_count": null,
   "id": "8d1a6e89",
   "metadata": {},
   "outputs": [],
   "source": [
    "sns.palplot(sns.color_palette(\"Set1\", n_colors=4))\n",
    "sns.palplot(sns.color_palette(\"Set2\", n_colors=4))\n",
    "sns.palplot(sns.color_palette(\"Set3\", n_colors=4))\n",
    "sns.palplot(sns.color_palette(\"Paired\", n_colors=4))"
   ]
  },
  {
   "cell_type": "markdown",
   "id": "949d6aa6",
   "metadata": {},
   "source": [
    "#### Custom colour palettes\n",
    "Seaborn also provides support for using names from this [xkcd crowdsourced effort](https://blog.xkcd.com/2010/05/03/color-survey-results/) to name random RGB colours. You can find the list of colours [here](https://xkcd.com/color/rgb/)."
   ]
  },
  {
   "cell_type": "code",
   "execution_count": null,
   "id": "16455665",
   "metadata": {},
   "outputs": [],
   "source": [
    "# choose four colours\n",
    "colours = [\"windows blue\", \"amber\", \"coral\", \"faded green\"]\n",
    "# plot them as a palette\n",
    "sns.palplot(sns.xkcd_palette(colours))"
   ]
  },
  {
   "cell_type": "markdown",
   "id": "4021f1e0",
   "metadata": {},
   "source": [
    "Let's now use this colour palette to help us visualise our clusters while plotting `IncomePerCap` vs `MeanCommute`. We'll also adjust the size of the points according to the rate of `Unemployment`."
   ]
  },
  {
   "cell_type": "code",
   "execution_count": null,
   "id": "6eee3725",
   "metadata": {},
   "outputs": [],
   "source": [
    "# create our colour palette\n",
    "cmap = sns.xkcd_palette(colours)\n",
    "plt.figure(figsize=(12,8))\n",
    "ax = sns.scatterplot(x=\"IncomePerCap\", y=\"MeanCommute\",\n",
    "                     hue=\"cluster\", size=\"Unemployment\",\n",
    "                     palette=cmap, sizes=(10, 200),\n",
    "                     data=df)\n",
    "plt.show()"
   ]
  },
  {
   "cell_type": "markdown",
   "id": "d70d8b26",
   "metadata": {},
   "source": [
    "This is just a nudge in the right direction. You are encouraged to do some more interrogations of the clusters to gain further insights.\n",
    "\n",
    "> Make use of the [seaborn example gallery](https://seaborn.pydata.org/examples/index.html) for some inspiration"
   ]
  },
  {
   "cell_type": "markdown",
   "id": "aa2861e5",
   "metadata": {},
   "source": [
    "## Quick introduction to geospatial data analysis\n",
    "We will now work through an introduction to a really cool Python library for working with geospatial data, called [GeoPandas](http://geopandas.org/). A lot more can be done with this package than what we do here. We encourage you to explore this package more.\n",
    "\n",
    "To load a GeoDataFrame, you do it in a very similar way to loading a regular Pandas DataFrame. We have provided a [GeoJSON](https://en.wikipedia.org/wiki/GeoJSON) called `us-counties.json` which can be read straight into GeoPandas a GeoDataFrame:"
   ]
  },
  {
   "cell_type": "code",
   "execution_count": null,
   "id": "cfc9d39b",
   "metadata": {},
   "outputs": [],
   "source": [
    "gdf = gpd.read_file('https://raw.githubusercontent.com/python-visualization/folium/master/tests/us-counties.json')"
   ]
  },
  {
   "cell_type": "markdown",
   "id": "be89f8af",
   "metadata": {},
   "source": [
    "GeoDataFrames inherit all the same methods as regular DataFrames. The only difference is that a GeoDataFrame must have a column named `geometry` which contains the spatial features relating to each observation in the data.   \n",
    "\n",
    "There are three basic classes of geometric objects:   \n",
    "- Points (x,y coordinate pairs);\n",
    "- Lines (multiple points which define segments); and\n",
    "- Polygons (multiple connected lines which form an enclosed shape)."
   ]
  },
  {
   "cell_type": "code",
   "execution_count": null,
   "id": "5e61a5af",
   "metadata": {},
   "outputs": [],
   "source": [
    "gdf.head()"
   ]
  },
  {
   "cell_type": "markdown",
   "id": "cd3b99ff",
   "metadata": {},
   "source": [
    "Our GeoDataFrame consists of all the US counties and their respective polygons. Let's merge this GeoDataFrame with our original DataFrame:"
   ]
  },
  {
   "cell_type": "code",
   "execution_count": null,
   "id": "5f260f54",
   "metadata": {},
   "outputs": [],
   "source": [
    "gdf['id'] = gdf['id'].astype('int64')\n",
    "df = pd.merge(left=df, right=gdf, how='inner', left_on='CensusId', right_on='id')\n",
    "del df['id']\n",
    "del df['name']\n",
    "# convert to a GeoDataFrame, specifying which column we wish to use for the geometry info\n",
    "df = gpd.GeoDataFrame(df, geometry='geometry')\n",
    "df.head(3)"
   ]
  },
  {
   "cell_type": "markdown",
   "id": "e6ae3d77",
   "metadata": {},
   "source": [
    "Now, we can plot the counties as a map and adjust the visuals according to the rate of `Unemployment`:"
   ]
  },
  {
   "cell_type": "code",
   "execution_count": null,
   "id": "41aaea6c",
   "metadata": {},
   "outputs": [],
   "source": [
    "df.plot(column='Unemployment',\n",
    "        cmap='Reds',\n",
    "        figsize=(18,16))\n",
    "plt.show()"
   ]
  },
  {
   "cell_type": "markdown",
   "id": "011943ba",
   "metadata": {},
   "source": [
    "Let's plot the clusters on the map and see where in the United States these clusters are:"
   ]
  },
  {
   "cell_type": "code",
   "execution_count": null,
   "id": "5eafc2dc",
   "metadata": {},
   "outputs": [],
   "source": [
    "df.plot(column='cluster',\n",
    "        cmap='tab20c',\n",
    "        figsize=(18,16),\n",
    "        categorical=True,\n",
    "        legend=True)\n",
    "plt.show()"
   ]
  },
  {
   "cell_type": "markdown",
   "id": "6146c3de",
   "metadata": {},
   "source": [
    "## Conclusion\n",
    "\n",
    "In this train, we clustered United States census data, plotted this data multidimensionally, and used `geopandas` to plot geospatial data on a map. This train was a brief introduction to these topics. The reader is encouraged to explore them further.\n",
    "\n",
    "## Additional Links\n",
    "[The Art of Effective Visualisation of Multi-dimensional Data](https://towardsdatascience.com/the-art-of-effective-visualization-of-multi-dimensional-data-6c7202990c57)\n",
    "\n",
    "[Some `geopandas` examples](https://geopandas.readthedocs.io/en/latest/gallery/)"
   ]
  },
  {
   "cell_type": "markdown",
   "id": "26fd094b-0fee-46f1-a4b8-73766813c42b",
   "metadata": {
    "tags": []
   },
   "source": [
    "#  \n",
    "\n",
    "<div align=\"center\" style=\" font-size: 80%; text-align: center; margin: 0 auto\">\n",
    "<img src=\"https://raw.githubusercontent.com/Explore-AI/Pictures/master/ExploreAI_logos/EAI_Blue_Dark.png\"  style=\"width:200px\";/>\n",
    "</div>"
   ]
  }
 ],
 "metadata": {
  "kernelspec": {
   "display_name": "Python 3 (ipykernel)",
   "language": "python",
   "name": "python3"
  },
  "language_info": {
   "codemirror_mode": {
    "name": "ipython",
    "version": 3
   },
   "file_extension": ".py",
   "mimetype": "text/x-python",
   "name": "python",
   "nbconvert_exporter": "python",
   "pygments_lexer": "ipython3",
   "version": "3.11.7"
  }
 },
 "nbformat": 4,
 "nbformat_minor": 5
}
